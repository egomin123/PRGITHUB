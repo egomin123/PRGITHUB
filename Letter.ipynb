{
 "cells": [
  {
   "cell_type": "code",
   "execution_count": null,
   "id": "f9ecce73",
   "metadata": {},
   "outputs": [],
   "source": [
    "a = input('Введите число а')\n",
    "a = int(a)\n",
    "b = input('Введите число b')\n",
    "b = int(b)\n",
    "print ('')\n",
    "print('1. Сложение 2. Вычетание 3. Умножение 4. Деление  5. вычти процент 6. возвести в степень 7. Обыкновенное деление')\n",
    "print('Выберите действие')\n",
    "c = input('Выберите действие')\n",
    "c = float(c)\n",
    "if c == 1:\n",
    "    print (a+b)\n",
    "elif c==2:\n",
    "    print (a-b)\n",
    "elif c==4:\n",
    "    print (a*b)\n",
    "elif c==5:\n",
    "    print (a%b)\n",
    "elif c==6:\n",
    "    print (a **b)\n",
    "elif c==7:\n",
    "    print (a//b)\n",
    "else:\n",
    "    print ('неверное число')"
   ]
  }
 ],
 "metadata": {
  "kernelspec": {
   "display_name": "Python 3 (ipykernel)",
   "language": "python",
   "name": "python3"
  },
  "language_info": {
   "codemirror_mode": {
    "name": "ipython",
    "version": 3
   },
   "file_extension": ".py",
   "mimetype": "text/x-python",
   "name": "python",
   "nbconvert_exporter": "python",
   "pygments_lexer": "ipython3",
   "version": "3.8.5"
  }
 },
 "nbformat": 4,
 "nbformat_minor": 5
}
